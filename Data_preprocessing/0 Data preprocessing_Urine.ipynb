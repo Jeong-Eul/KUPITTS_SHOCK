{
 "cells": [
  {
   "cell_type": "code",
   "execution_count": null,
   "metadata": {},
   "outputs": [],
   "source": [
    "import pandas as pd\n",
    "from tqdm.notebook import tqdm\n",
    "import re"
   ]
  },
  {
   "cell_type": "code",
   "execution_count": null,
   "metadata": {},
   "outputs": [],
   "source": [
    "feature_ID_list = pd.read_csv('./Feature ID list for shock(MIMIC-4).csv')\n",
    "feature_name = feature_ID_list['Feature name'].tolist()\n",
    "feature_ID_list.set_index('Feature name', inplace=True)\n",
    "urine_id_ls = feature_ID_list['outputevents'][feature_name[27]]\n",
    "urine_id_ls = [int(x) for x in urine_id_ls.split(',')]"
   ]
  },
  {
   "cell_type": "code",
   "execution_count": null,
   "metadata": {},
   "outputs": [],
   "source": [
    "outputevents = pd.read_csv('./outputevents.csv')\n",
    "patients = pd.read_csv('./icustays.csv')\n",
    "#patients.drop(columns=['Unnamed: 0'], inplace=True)\n",
    "#patients.drop(columns=['ICUSTAY_ID'], inplace=True)\n",
    "\n",
    "outputevents = pd.merge(outputevents, patients, on=['subject_id','hadm_id','stay_id'], how='left')\n",
    "#data = data[data['los']>1]\n",
    "outputevents.reset_index(drop=True, inplace=True)\n",
    "\n",
    "condition1 = (outputevents['intime'] <= outputevents['charttime'])\n",
    "condition2 = (outputevents['outtime'] >= outputevents['charttime'])\n",
    "\n",
    "outputevents = outputevents[condition1 & condition2]\n",
    "\n",
    "urine = outputevents[outputevents['itemid'].isin(urine_id_ls)]\n",
    "urine = urine[['subject_id','hadm_id','stay_id', 'intime', 'outtime', 'charttime','value']]\n",
    "urine.rename(columns={'value':'Urine Output'}, inplace=True)\n",
    "condition1 = urine['Urine Output']>=0 \n",
    "urine = urine[condition1]\n",
    "urine.reset_index(drop=True, inplace=True)"
   ]
  },
  {
   "cell_type": "code",
   "execution_count": null,
   "metadata": {},
   "outputs": [],
   "source": [
    "urine['charttime'] = pd.to_datetime(urine['charttime'])\n",
    "urine['outtime'] = pd.to_datetime(urine['outtime'])\n",
    "urine['intime'] = pd.to_datetime(urine['intime'])"
   ]
  },
  {
   "cell_type": "code",
   "execution_count": null,
   "metadata": {},
   "outputs": [],
   "source": [
    "def resampling_func_urine(x):\n",
    "    column = ['subject_id','hadm_id','stay_id', 'time', 'Urine Output']\n",
    "\n",
    "    feature = 'Urine Output'\n",
    "\n",
    "    x.reset_index(drop=True, inplace=True)\n",
    "\n",
    "    date_range = pd.date_range(x['intime'][0], x['outtime'][0], freq='10T', inclusive='right')\n",
    "    new_df = pd.DataFrame(index=date_range, columns=column)\n",
    "\n",
    "    new_df['subject_id'] = x['subject_id'][0]\n",
    "    new_df['hadm_id'] = x['hadm_id'][0]\n",
    "    new_df['stay_id'] = x['stay_id'][0]\n",
    "    new_df['time'] = new_df.index\n",
    "    new_df['Urine Output'] = 0\n",
    "\n",
    "    for i in range(len(date_range)):\n",
    "        if i == 0:\n",
    "            condition1 = date_range[i]>=x['charttime']\n",
    "            sa = x[condition1]\n",
    "            new_df[feature][i] = sa['Urine Output'].sum()\n",
    "\n",
    "        else :\n",
    "            condition2 = date_range[i-1]<x['charttime']\n",
    "            condition3 = date_range[i]>=x['charttime']\n",
    "            sa = x[(condition2)&(condition3)]\n",
    "            new_df[feature][i] = sa['Urine Output'].sum()\n",
    "\n",
    "    return new_df\n",
    "\n",
    "result_urine = urine.groupby('stay_id').apply(resampling_func_urine)\n",
    "result_urine = result_urine.reset_index(drop=True)\n",
    "print('---------------------------------------------------------------------------------')\n",
    "result_urine.to_csv('./Data preprocessed 4/10min Urine output.csv', index=False)"
   ]
  },
  {
   "cell_type": "code",
   "execution_count": null,
   "metadata": {},
   "outputs": [],
   "source": [
    "result_urine"
   ]
  }
 ],
 "metadata": {
  "kernelspec": {
   "display_name": "kernel_torch_py39",
   "language": "python",
   "name": "torch_py39"
  },
  "language_info": {
   "codemirror_mode": {
    "name": "ipython",
    "version": 3
   },
   "file_extension": ".py",
   "mimetype": "text/x-python",
   "name": "python",
   "nbconvert_exporter": "python",
   "pygments_lexer": "ipython3",
   "version": "3.9.16"
  }
 },
 "nbformat": 4,
 "nbformat_minor": 2
}
