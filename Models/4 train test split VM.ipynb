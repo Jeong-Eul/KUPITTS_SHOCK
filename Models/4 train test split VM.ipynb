{
 "cells": [
  {
   "cell_type": "code",
   "execution_count": null,
   "metadata": {},
   "outputs": [],
   "source": [
    "import pandas as pd\n",
    "import numpy as np\n",
    "from tqdm.notebook import tqdm"
   ]
  },
  {
   "cell_type": "code",
   "execution_count": null,
   "metadata": {},
   "outputs": [],
   "source": [
    "action_num = 16\n",
    "version = '240721'\n",
    "action_dim = action_num\n",
    "\n",
    "data = pd.read_csv(f'./Shock dataset 1hr state_cont_{version}_Action{action_num}_Reward Mean GAP VM.csv')"
   ]
  },
  {
   "cell_type": "code",
   "execution_count": null,
   "metadata": {},
   "outputs": [],
   "source": [
    "data"
   ]
  },
  {
   "cell_type": "code",
   "execution_count": null,
   "metadata": {},
   "outputs": [],
   "source": [
    "import random\n",
    "\n",
    "# Random seed 고정\n",
    "random.seed(220604)\n",
    "np.random.seed(220604)\n",
    "\n",
    "traj = data['stay_id'].unique().tolist()\n",
    "num_80 = len(traj) * 0.8\n",
    "int_num_80 = round(num_80)\n",
    "random.shuffle(traj)\n",
    "train_traj = traj[:int_num_80]\n",
    "test_traj = traj[int_num_80:]\n",
    "\n",
    "train_data = pd.DataFrame()\n",
    "val_data = pd.DataFrame()\n",
    "\n",
    "for p in train_traj:\n",
    "    selected1 = data[data['stay_id'] == p].reset_index(drop=True)\n",
    "    train_data = pd.concat([train_data, selected1], ignore_index=True)\n",
    "\n",
    "for q in test_traj:\n",
    "    selected1 = data[data['stay_id'] == q].reset_index(drop=True)\n",
    "    val_data = pd.concat([val_data, selected1], ignore_index=True)\n",
    "\n",
    "print(len(train_data[train_data['Death'] == 1]))\n",
    "print(len(val_data[val_data['Death'] == 1]))"
   ]
  },
  {
   "cell_type": "code",
   "execution_count": null,
   "metadata": {},
   "outputs": [],
   "source": [
    "train_data.to_csv(f'./train_shock_dataset_state_cont_{version}_Action{action_num}_Reward_Mean_VM.csv', index=False)\n",
    "val_data.to_csv(f'./val_shock_dataset_state_cont_{version}_Action{action_num}_Reward_Mean_VM.csv', index=False)"
   ]
  }
 ],
 "metadata": {
  "kernelspec": {
   "display_name": "torch_py39",
   "language": "python",
   "name": "python3"
  },
  "language_info": {
   "codemirror_mode": {
    "name": "ipython",
    "version": 3
   },
   "file_extension": ".py",
   "mimetype": "text/x-python",
   "name": "python",
   "nbconvert_exporter": "python",
   "pygments_lexer": "ipython3",
   "version": "3.9.16"
  }
 },
 "nbformat": 4,
 "nbformat_minor": 2
}
